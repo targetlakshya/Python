{
 "cells": [
  {
   "cell_type": "markdown",
   "metadata": {},
   "source": [
    "Variables :\n",
    "Variables are the words that store the constants.\n",
    "\n",
    "Datatypes : Datatypes are the keywords that define the what type of data we used. Like integer, float, double"
   ]
  },
  {
   "cell_type": "code",
   "execution_count": 18,
   "metadata": {},
   "outputs": [
    {
     "name": "stdout",
     "output_type": "stream",
     "text": [
      "10\n",
      "29\n"
     ]
    }
   ],
   "source": [
    "# Integer Datatypes\n",
    "\n",
    "lakshya = 10\n",
    "print(lakshya)\n",
    "\n",
    "vikram = 19\n",
    "print(lakshya + vikram)\n"
   ]
  },
  {
   "cell_type": "code",
   "execution_count": 19,
   "metadata": {},
   "outputs": [
    {
     "name": "stdout",
     "output_type": "stream",
     "text": [
      "<class 'float'>\n"
     ]
    }
   ],
   "source": [
    "# Float Datatypes\n",
    "\n",
    "b = 2.09\n",
    "print(type(b))"
   ]
  },
  {
   "cell_type": "code",
   "execution_count": 20,
   "metadata": {},
   "outputs": [
    {
     "name": "stdout",
     "output_type": "stream",
     "text": [
      "<class 'str'>\n",
      "<class 'str'>\n"
     ]
    }
   ],
   "source": [
    "# String Datatypes\n",
    "d = \"Lakshya\"\n",
    "print(type(d))\n",
    "e = \"this is my Tech Class\"\n",
    "print(type(e))"
   ]
  },
  {
   "cell_type": "code",
   "execution_count": 21,
   "metadata": {},
   "outputs": [
    {
     "name": "stdout",
     "output_type": "stream",
     "text": [
      "<class 'bool'>\n",
      "<class 'bool'>\n",
      "N + M = 1\n",
      "N * M = 0\n"
     ]
    }
   ],
   "source": [
    "# Boolean Datatype\n",
    "n = True\n",
    "print(type(n))\n",
    "\n",
    "m = False\n",
    "print(type(m))\n",
    "\n",
    "print(f\"N + M = {n+m}\") # 0 + 1\n",
    "print(f\"N * M = {n*m}\")\n",
    "# print(f\"N / M = {n/m}\") #That throw Zero Division error bcz 1/0 = 0"
   ]
  },
  {
   "cell_type": "code",
   "execution_count": 22,
   "metadata": {},
   "outputs": [
    {
     "name": "stdout",
     "output_type": "stream",
     "text": [
      "<class 'complex'>\n",
      "5.0\n",
      "8.0\n"
     ]
    }
   ],
   "source": [
    "# Complex Variable\n",
    "v = 5 + 8j # here j is the notation which can conclude it is imaginary\n",
    "print(type(v))\n",
    "print(v.real) # Throw Real Value of the complex\n",
    "print(v.imag) # Throw Imaginary value of the complex"
   ]
  },
  {
   "cell_type": "markdown",
   "metadata": {},
   "source": [
    "Python has many Datatypes like\n",
    "\n",
    "int, float, string, list, tuple, dictionary, set, frozen set, bytes, bytearray, complex, boolean, none, range \n",
    "\n",
    "that we talk in future"
   ]
  },
  {
   "cell_type": "code",
   "execution_count": 23,
   "metadata": {},
   "outputs": [
    {
     "name": "stdout",
     "output_type": "stream",
     "text": [
      "My name is Lakshya\n",
      "P\n",
      "s\n",
      "w\n",
      "PwS\n",
      "PSi\n",
      "PSil\n",
      "sllikSwP\n"
     ]
    }
   ],
   "source": [
    "# How to Print in Python\n",
    "\n",
    "print(\"My name is Lakshya\")\n",
    "\n",
    "s = \"PwSkills\"\n",
    "# Indexing (Indexing always starting from 0 and move forward)\n",
    "\n",
    "print(s[0])\n",
    "print(s[-1]) # Reverse Indexing \n",
    "print(s[-7])\n",
    "\n",
    "#  Slicing -> Slice is the way to Start a loop in the String\\\n",
    "# Slicing [Starting : End -1 : Steps(Jump)]\n",
    "\n",
    "print(s[0:3])\n",
    "print(s[0:6:2]) \n",
    "print(s[::2])\n",
    "\n",
    "# Reverse Slicing (Reverse a String)\n",
    "print(s[::-1])"
   ]
  },
  {
   "cell_type": "code",
   "execution_count": 24,
   "metadata": {},
   "outputs": [
    {
     "name": "stdout",
     "output_type": "stream",
     "text": [
      "8\n",
      "PWSKILLS\n",
      "pwskills\n",
      "['PwSkills']\n",
      "['PwSk', 'lls']\n",
      "2\n",
      "4\n",
      "Pwskills\n",
      "OwSkills\n",
      "True\n",
      "PwSkillsPwSkillsPwSkills\n",
      "PwSkills Lakshya\n",
      "True\n"
     ]
    }
   ],
   "source": [
    "# Inbuilt Functions in Python String\n",
    "\n",
    "s = \"PwSkills\"\n",
    "print(len(s)) # Length of the String \n",
    "print(s.upper()) # Convert the String into UpperCase\n",
    "print(s.lower()) # Convert the String into LowerCase\n",
    "print(s.split()) # Split the String with the Space\n",
    "print(s.split(\"i\")) # Split the String with the i character\n",
    "print(s.count('l')) # Count the number of i in the String\n",
    "print(s.find('i')) # Find the index of the i in the String\n",
    "print(s.capitalize()) # Capitalize the first letter of the String\n",
    "print(s.replace('P', 'O')) # Replace the P with O in the String\n",
    "print(s.isalpha()) # Check the String is Alpha or not\n",
    "print(s* 3) # Print the String 3 times\n",
    "print(s + \" \" + \"Lakshya\") # Concatenate the String\n",
    "print(s.startswith('P')) # Check the String is Start with P or not"
   ]
  },
  {
   "cell_type": "markdown",
   "metadata": {},
   "source": [
    "List :\n",
    "List is a Data type in python which is a kind of array that store heterogenous data. \n",
    "\n",
    "List is mutable in nature"
   ]
  },
  {
   "cell_type": "code",
   "execution_count": 60,
   "metadata": {},
   "outputs": [
    {
     "name": "stdout",
     "output_type": "stream",
     "text": [
      "<class 'list'>\n",
      "1\n",
      "56255.545\n",
      "[56255.545, (5+8j), True, 'lakshya', 45, 345, 1]\n",
      "[1, 345, 45, 'lakshya']\n",
      "[1, 345, 45, 'lakshya', True, (5+8j), 56255.545, 0, 6, 7, 8]\n",
      "['P', 'w', 'S', 'k', 'i', 'l', 'l', 's']\n",
      "['P', 'w', 'S', 'k', 'i', 'l', 'l', 's', 1, 345, 45, 'lakshya', True, (5+8j), 56255.545]\n",
      "[1, 345, 45, 'lakshya', True, (5+8j), 56255.545, 'Vikram']\n",
      "8\n",
      "[1, 345, 'Python', 45, 'lakshya', True, (5+8j), 56255.545, 'Vikram']\n",
      "[1, 'Python', 45, 'lakshya', True, (5+8j), 56255.545, 'Vikram']\n",
      "[1, 'Python', 45, 'lakshya', True, (5+8j), 56255.545]\n",
      "[1, 'Python', 'lakshya', True, (5+8j), 56255.545]\n",
      "[56255.545, (5+8j), True, 'lakshya', 'Python', 1]\n",
      "[56255.545, (5+8j), True, 'lakshya', 'Python', 1, 'L', 'a', 'k', 's', 'h', 'y', 'a']\n",
      "[0, 6, 7, 8]\n",
      "[]\n"
     ]
    }
   ],
   "source": [
    "l = [1,345,45,\"lakshya\",True, 5+8j, 56255.545]\n",
    "l1 = [0,6,7,8]\n",
    "\n",
    "print(type(l)) # Check the Type of the List\n",
    "print(l[0]) # Indexing in the List\n",
    "print(l[-1]) # Lat index int the list\n",
    "print(l[::-1]) # Reverse Indexing in the List\n",
    "print(l[0:4]) # Slicing in the List\n",
    "print(l + l1) # Concatenate the List\n",
    "\n",
    "s = \"PwSkills\"\n",
    "print(list(s)) # Convert the String into List\n",
    "print(list(s) + l) # Concatenate the List and String\n",
    "\n",
    "# Inbuilt Functions in the List\n",
    "l.append(\"Vikram\") # Append the Element in the List\n",
    "print(l)\n",
    "print(len(l)) # Length of the List\n",
    "l.insert(2, \"Python\") # Insert the Element in the List => insert(index, element)\n",
    "print(l)\n",
    "l.remove(345) # Remove the Element from the List\n",
    "print(l)\n",
    "l.pop() # Remove the Last Element from the List\n",
    "print(l)\n",
    "l.pop(2) # Remove the Element from the List => pop(index)\n",
    "print(l)\n",
    "l.reverse() # Reverse the List\n",
    "print(l)\n",
    "l.extend(\"Lakshya\") # Extend the List\n",
    "print(l)\n",
    "l1.sort() # Sort the List\n",
    "print(l1)\n",
    "l1.clear() # Clear the List\n",
    "print(l1)\n"
   ]
  },
  {
   "cell_type": "markdown",
   "metadata": {},
   "source": [
    "Tuples :\n",
    "Python tuples are a type of data structure that is very similar to lists. The main difference between the two is that tuples are immutable, meaning they cannot be changed once they are created. This makes them ideal for storing data that should not be modified, such as database records.\n"
   ]
  },
  {
   "cell_type": "code",
   "execution_count": 67,
   "metadata": {},
   "outputs": [
    {
     "name": "stdout",
     "output_type": "stream",
     "text": [
      "<class 'tuple'>\n",
      "(2, 3, 4, 5, 'lakshya', 45.56, False, (45+456j), [2, 3, 4])\n",
      "2\n",
      "[2, 3, 4]\n",
      "([2, 3, 4], (45+456j), False, 45.56, 'lakshya', 5, 4, 3, 2)\n",
      "(2, 3, 4, 5, 'lakshya')\n",
      "1\n",
      "9\n",
      "2\n",
      "(2, 3, 4, 5, 'lakshya', 45.56, False, (45+456j), [2, 3, 4], 2, 3, 4)\n",
      "(2, 3, 4, 5, 'lakshya', 45.56, False, (45+456j), [2, 3, 4], 2, 3, 4, 5, 'lakshya', 45.56, False, (45+456j), [2, 3, 4], 2, 3, 4, 5, 'lakshya', 45.56, False, (45+456j), [2, 3, 4])\n",
      "[2, 3, 4, 5, 'lakshya', 45.56, False, (45+456j), [2, 3, 4]]\n",
      "('P', 'w', 'S', 'k', 'i', 'l', 'l', 's')\n"
     ]
    }
   ],
   "source": [
    "t = (2,3,4,5,\"lakshya\",45.56,False, 45+456j, [2,3,4])\n",
    "print(type(t)) # Check the Type of the Tuple\n",
    "print(t) # Print the Tuple\n",
    "print(t[0]) # Indexing in the Tuple\n",
    "print(t[-1]) # Last Index in the Tuple\n",
    "print(t[::-1]) # Reverse Indexing in the Tuple\n",
    "print(t[0:5]) # Slicing in the Tuple\n",
    "\n",
    "# Inbuilt Functions in the Tuple\n",
    "print(t.count(2)) # Count the Element in the Tuple\n",
    "print(len(t)) # Length of the Tuple\n",
    "print(t.index(4)) # Index of the Element in the Tuple\n",
    "print(t + (2,3,4)) # Concatenate the Tuple\n",
    "print(t * 3) # Print the Tuple 3 times\n",
    "print(list(t)) # Convert the Tuple into List\n",
    "s = \"PwSkills\"\n",
    "print(tuple(s)) # Convert the String into Tuple\n",
    "# t.append(5) # Append the Element in the Tuple => Tuple is Immutable\n"
   ]
  },
  {
   "cell_type": "markdown",
   "metadata": {},
   "source": [
    "Sets :\n",
    "Sets are used to store multiple items in a single variable.\n",
    "\n",
    "Set is one of 4 built-in data types in Python used to store collections of data, the other 3 are List, Tuple, and Dictionary, all with different qualities and usage.\n",
    "\n",
    "A set is a collection which is unordered, unchangeable*, and unindexed."
   ]
  },
  {
   "cell_type": "code",
   "execution_count": 88,
   "metadata": {},
   "outputs": [
    {
     "name": "stdout",
     "output_type": "stream",
     "text": [
      "<class 'set'>\n",
      "{2, 3, 4, 5, 6, 7, 8, 9}\n",
      "{False, 2, 3, 4, 5, (45+456j), 45.56, (2, 3, 4), 'lakshya'}\n",
      "8\n",
      "{2, 3, 4, 5, 6, 7, 8, 9, 10}\n",
      "{2, 3, 4, 5, 6, 7, 8, 9}\n",
      "{2, 3, 5, 6, 7, 8, 9}\n",
      "{3, 5, 6, 7, 8, 9}\n",
      "set()\n"
     ]
    }
   ],
   "source": [
    "s = {2,3,4,5,6,7,8,9,2,3,4,5,6,7,8,9}\n",
    "print(type(s)) # Check the Type of the Set\n",
    "print(s) # Print the Set\n",
    "s2 = {2,3,4,5,\"lakshya\",45.56,False, 45+456j, (2,3,4)}\n",
    "print(s2) # Print the Set => Priority is given to bool, int, float, complex, string, tuple\n",
    "\n",
    "# print(s2[2])    # Indexing is not possible in the Set\n",
    "# Indexing is not poosible in Sets\n",
    "# print(s[::-1]) # Reverse Indexing is not possible in the Set => slicing is also not possible\n",
    "\n",
    "# Inbuilt Functions in the Set\n",
    "print(len(s)) # Length of the Set\n",
    "s.add(10) # Add the Element in the Set\n",
    "print(s)    \n",
    "s.remove(10) # Remove the Element from the Set\n",
    "print(s)\n",
    "s.discard(4) # Discard the Element from the Set\n",
    "print(s)\n",
    "s.pop() # Remove the Random Element from the Set\n",
    "print(s)\n",
    "s.clear() # Clear the Set\n",
    "print(s)\n"
   ]
  },
  {
   "cell_type": "markdown",
   "metadata": {},
   "source": [
    "Dictionary\n",
    "\n",
    "Dictionaries are used to store data values in key:value pairs.\n",
    "\n",
    "A dictionary is a collection which is ordered*, changeable and do not allow duplicates."
   ]
  },
  {
   "cell_type": "code",
   "execution_count": 97,
   "metadata": {},
   "outputs": [
    {
     "name": "stdout",
     "output_type": "stream",
     "text": [
      "<class 'dict'>\n",
      "{'name': 'Lakshya', 'age': 19, 'Class': 'CSE-AIML', 'Marks': 90}\n",
      "Lakshya\n",
      "19\n",
      "90\n",
      "{'name': 'Lakshya', 'age': 19, 'Class': 'CSE-AIML', 'Marks': 95}\n",
      "5\n",
      "dict_keys(['name', 'age', 'Class', 'Marks', 'rollno'])\n",
      "dict_values(['Lakshya', 19, 'CSE-AIML', 95, 123456])\n",
      "dict_items([('name', 'Lakshya'), ('age', 19), ('Class', 'CSE-AIML'), ('Marks', 95), ('rollno', 123456)])\n",
      "[('name', 'Lakshya'), ('age', 19), ('Class', 'CSE-AIML'), ('Marks', 95), ('rollno', 123456)]\n"
     ]
    },
    {
     "data": {
      "text/plain": [
       "95"
      ]
     },
     "execution_count": 97,
     "metadata": {},
     "output_type": "execute_result"
    }
   ],
   "source": [
    "d = {\"name\" : \"Lakshya\", \"age\" : 19, \"Class\" : \"CSE-AIML\", \"Marks\" : 90} # Key : Value Pair\n",
    "print(type(d)) # Check the Type of the Dictionary\n",
    "print(d) # Print the Dictionary\n",
    "print(d[\"name\"]) # Indexing in the Dictionary\n",
    "print(d[\"age\"]) # Indexing in the Dictionary\n",
    "print(d[\"Marks\"]) # Indexing in the Dictionary\n",
    "d[\"Marks\"] = 95 # Update the Value in the Dictionary\n",
    "print(d)\n",
    "d['rollno'] = 123456 # Add the Element in the Dictionary\n",
    "\n",
    "# Inbuilt Functions in the Dictionary\n",
    "print(len(d)) # Length of the Dictionary\n",
    "print(d.keys()) # Print the Keys of the Dictionary\n",
    "print(d.values()) # Print the Values of the Dictionary\n",
    "print(d.items()) # Print the Items of the Dictionary\n",
    "print(list(d.items()))\n",
    "d.pop(\"Marks\") # Remove the Element from the Dictionary "
   ]
  },
  {
   "cell_type": "markdown",
   "metadata": {},
   "source": [
    "Conditional Statements\n",
    "\n",
    "Python supports the usual logical conditions from mathematics:\n",
    "\n",
    "Equals: a == b\n",
    "Not Equals: a != b\n",
    "Less than: a < b\n",
    "Less than or equal to: a <= b\n",
    "Greater than: a > b\n",
    "Greater than or equal to: a >= b"
   ]
  },
  {
   "cell_type": "code",
   "execution_count": 99,
   "metadata": {},
   "outputs": [
    {
     "name": "stdout",
     "output_type": "stream",
     "text": [
      "Grade A\n"
     ]
    }
   ],
   "source": [
    "marks  = int(input(\"Enter the Marks: \"))\n",
    "\n",
    "if marks > 90 and marks <= 100 :\n",
    "    print(\"Grade A\")\n",
    "elif marks > 80 and marks <= 90:\n",
    "    print(\"Grade B\")\n",
    "elif marks > 70 and marks <= 80:\n",
    "    print(\"Grade C\")\n",
    "elif marks > 60 and marks <= 70:\n",
    "    print(\"Grade D\")\n",
    "else:\n",
    "    print(\"Grade E\")\n",
    "\n"
   ]
  },
  {
   "cell_type": "code",
   "execution_count": 103,
   "metadata": {},
   "outputs": [
    {
     "name": "stdout",
     "output_type": "stream",
     "text": [
      "I will not purchase the product\n"
     ]
    }
   ],
   "source": [
    "price = int(input(\"Enter the Price: \"))\n",
    "if price < 1000 :\n",
    "    print(\"I will purchase the product\")\n",
    "    if price > 5000 :\n",
    "        print(\"This is Toooo much\")\n",
    "    elif price < 2000:\n",
    "        print(\"It's Ok kind of price\")\n",
    "else :\n",
    "    print(\"I will not purchase the product\")"
   ]
  }
 ],
 "metadata": {
  "kernelspec": {
   "display_name": "Python 3",
   "language": "python",
   "name": "python3"
  },
  "language_info": {
   "codemirror_mode": {
    "name": "ipython",
    "version": 3
   },
   "file_extension": ".py",
   "mimetype": "text/x-python",
   "name": "python",
   "nbconvert_exporter": "python",
   "pygments_lexer": "ipython3",
   "version": "3.11.8"
  }
 },
 "nbformat": 4,
 "nbformat_minor": 2
}
