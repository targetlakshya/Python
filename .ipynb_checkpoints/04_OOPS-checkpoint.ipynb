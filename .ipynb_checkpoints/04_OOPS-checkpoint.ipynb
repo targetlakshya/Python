a = 1
print(type(a)) # class 'int'
b = "pwskills"
print(type(b)) # class 'string'
print(type([82.2,4,4,32,2])) # class 'list'

# How to make a class in python

class test :
    pass # Blank class creation

a = test()
print(type(a))

class pwskills :
    def welcome_msg(self) :
        print("Welcome to PW skills")
rohan = pwskills()
print(type(rohan))
rohan.welcome_msg()
gaurav = pwskills()
gaurav.welcome_msg()

class pwskills1 :
    def __init__(self, phone_no, email_id, student_id):
        self.phone_number = phone_no
        self.email_id = email_id
        self.student_id = student_id
    def return_student_details(self):
        return self.student_id,self.phone_number,self.email_id
rohan = pwskills1(9859363921,"rohan@gmail.com",101)
print(rohan.email_id)

print(rohan.return_student_details())
gaurav = pwskills1(949826622,'gaurav@gmail.com',1511)
print(gaurav.return_student_details())

# Polymorphism


def test(a,b) :
    return a + b

d = test(3,4)
print(d)
e = test("Sudh" , " Kumar")
print(e)
d = test([1,2,3,4],[4,3,2,2])
print(d)

class data_science:
    def syllabus(self):
        print("This is my syllabysus of data science batch")
    
class web_dev:
    def syllabus(self):
        print("This is my syllabus for web dev")

def class_parcer(class_obj):
    for i in class_obj:
        i.syllabus()
data_science = data_science()
web_dev = web_dev()
class_obj = [data_science, web_dev]
class_parcer(class_obj)

# Encapsulation


class test:
    def __init__(self,a,b) :
        self.a = a
        self.b = b

t = test(32,45)
t.a = 23456
print(t.a)

class car :
    def __init__(self,year,make,model,speed) :
        self.__year = year
        self.__model = model
        self.make = make
        self.__speed = speed

        def set_spped(self,speed):
            self.speed = 0 if speed < 0 else speed
        def get_speed(self):
            return self.speed
c = car(2021,"toyota","innova",12)
print(c._car__model)

print("''''''''Bank account'''''''''''''")
class Bank_account :
    def __init__(self, balance) :
        self.__balance = balance
    def deposit(self,amount) :
        self.__balance = self.__balance + amount
    
    def withdraw (self,amount) :
        if self.__balance >= amount :
            self.__balance = self.__balance - amount
            return True
        else :
            return False
    def get_balance (self) :
        return self.__balance

lakshya = Bank_account(1000)
lakshya.deposit(500)
lakshya.withdraw(600)
print(lakshya.get_balance())

    
















