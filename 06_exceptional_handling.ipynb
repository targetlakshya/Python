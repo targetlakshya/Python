{
 "cells": [
  {
   "cell_type": "code",
   "execution_count": 2,
   "id": "af152891",
   "metadata": {},
   "outputs": [],
   "source": [
    "a = 10"
   ]
  },
  {
   "cell_type": "code",
   "execution_count": 3,
   "id": "fa414ff2",
   "metadata": {},
   "outputs": [
    {
     "ename": "ZeroDivisionError",
     "evalue": "division by zero",
     "output_type": "error",
     "traceback": [
      "\u001b[1;31m---------------------------------------------------------------------------\u001b[0m",
      "\u001b[1;31mZeroDivisionError\u001b[0m                         Traceback (most recent call last)",
      "\u001b[1;32me:\\Python\\06_exceptional_handling.ipynb Cell 2\u001b[0m line \u001b[0;36m1\n\u001b[1;32m----> <a href='vscode-notebook-cell:/e%3A/Python/06_exceptional_handling.ipynb#X13sZmlsZQ%3D%3D?line=0'>1</a>\u001b[0m a\u001b[39m/\u001b[39;49m\u001b[39m0\u001b[39;49m\n",
      "\u001b[1;31mZeroDivisionError\u001b[0m: division by zero"
     ]
    }
   ],
   "source": [
    "a/0"
   ]
  },
  {
   "cell_type": "code",
   "execution_count": 5,
   "id": "352ab670",
   "metadata": {},
   "outputs": [
    {
     "ename": "FileNotFoundError",
     "evalue": "[Errno 2] No such file or directory: 'test4.txt'",
     "output_type": "error",
     "traceback": [
      "\u001b[1;31m---------------------------------------------------------------------------\u001b[0m",
      "\u001b[1;31mFileNotFoundError\u001b[0m                         Traceback (most recent call last)",
      "\u001b[1;32me:\\Python\\06_exceptional_handling.ipynb Cell 3\u001b[0m line \u001b[0;36m1\n\u001b[1;32m----> <a href='vscode-notebook-cell:/e%3A/Python/06_exceptional_handling.ipynb#X14sZmlsZQ%3D%3D?line=0'>1</a>\u001b[0m f \u001b[39m=\u001b[39m \u001b[39mopen\u001b[39;49m(\u001b[39m'\u001b[39;49m\u001b[39mtest4.txt\u001b[39;49m\u001b[39m'\u001b[39;49m,\u001b[39m'\u001b[39;49m\u001b[39mr\u001b[39;49m\u001b[39m'\u001b[39;49m)\n\u001b[0;32m      <a href='vscode-notebook-cell:/e%3A/Python/06_exceptional_handling.ipynb#X14sZmlsZQ%3D%3D?line=1'>2</a>\u001b[0m \u001b[39mprint\u001b[39m(\u001b[39m\"\u001b[39m\u001b[39mthis is my print\u001b[39m\u001b[39m\"\u001b[39m)\n",
      "File \u001b[1;32mc:\\Users\\ASUS\\AppData\\Local\\Programs\\Python\\Python311\\Lib\\site-packages\\IPython\\core\\interactiveshell.py:286\u001b[0m, in \u001b[0;36m_modified_open\u001b[1;34m(file, *args, **kwargs)\u001b[0m\n\u001b[0;32m    279\u001b[0m \u001b[39mif\u001b[39;00m file \u001b[39min\u001b[39;00m {\u001b[39m0\u001b[39m, \u001b[39m1\u001b[39m, \u001b[39m2\u001b[39m}:\n\u001b[0;32m    280\u001b[0m     \u001b[39mraise\u001b[39;00m \u001b[39mValueError\u001b[39;00m(\n\u001b[0;32m    281\u001b[0m         \u001b[39mf\u001b[39m\u001b[39m\"\u001b[39m\u001b[39mIPython won\u001b[39m\u001b[39m'\u001b[39m\u001b[39mt let you open fd=\u001b[39m\u001b[39m{\u001b[39;00mfile\u001b[39m}\u001b[39;00m\u001b[39m by default \u001b[39m\u001b[39m\"\u001b[39m\n\u001b[0;32m    282\u001b[0m         \u001b[39m\"\u001b[39m\u001b[39mas it is likely to crash IPython. If you know what you are doing, \u001b[39m\u001b[39m\"\u001b[39m\n\u001b[0;32m    283\u001b[0m         \u001b[39m\"\u001b[39m\u001b[39myou can use builtins\u001b[39m\u001b[39m'\u001b[39m\u001b[39m open.\u001b[39m\u001b[39m\"\u001b[39m\n\u001b[0;32m    284\u001b[0m     )\n\u001b[1;32m--> 286\u001b[0m \u001b[39mreturn\u001b[39;00m io_open(file, \u001b[39m*\u001b[39;49margs, \u001b[39m*\u001b[39;49m\u001b[39m*\u001b[39;49mkwargs)\n",
      "\u001b[1;31mFileNotFoundError\u001b[0m: [Errno 2] No such file or directory: 'test4.txt'"
     ]
    }
   ],
   "source": [
    "f = open('test4.txt','r')\n",
    "print(\"this is my print\")\n"
   ]
  },
  {
   "cell_type": "code",
   "execution_count": 7,
   "id": "211059b6",
   "metadata": {},
   "outputs": [
    {
     "name": "stdout",
     "output_type": "stream",
     "text": [
      "this is my except block [Errno 2] No such file or directory: 'test4.txt'\n"
     ]
    },
    {
     "data": {
      "text/plain": [
       "9"
      ]
     },
     "execution_count": 7,
     "metadata": {},
     "output_type": "execute_result"
    }
   ],
   "source": [
    "try :\n",
    "    f = open('test4.txt','r')\n",
    "except Exception as e :\n",
    "    print(\"this is my except block\",e)\n",
    "a = 4+5\n",
    "a\n"
   ]
  },
  {
   "cell_type": "code",
   "execution_count": 10,
   "id": "571dcb71",
   "metadata": {},
   "outputs": [
    {
     "name": "stdout",
     "output_type": "stream",
     "text": [
      "this is my except block [Errno 2] No such file or directory: 'test4.txt'\n"
     ]
    }
   ],
   "source": [
    "try :\n",
    "    f = open('test4.txt','r')\n",
    "    f.write(\"write into my file\")\n",
    "    f.close()\n",
    "except Exception as e :\n",
    "    print(\"this is my except block\",e)"
   ]
  },
  {
   "cell_type": "code",
   "execution_count": 43,
   "id": "fc1900a5",
   "metadata": {},
   "outputs": [
    {
     "name": "stdout",
     "output_type": "stream",
     "text": [
      "this will be execiuted once your  try will executed without error \n"
     ]
    }
   ],
   "source": [
    "# Else Block\n",
    "try :\n",
    "    f = open('test.txt','w')\n",
    "    f.write(\"write into my file\")\n",
    "    f.close()\n",
    "except Exception as e :\n",
    "    print(\"this is my except block\",e)\n",
    "else :\n",
    "    f.close()\n",
    "    print(\"this will be execiuted once your  try will executed without error \")\n"
   ]
  },
  {
   "cell_type": "code",
   "execution_count": 47,
   "id": "a90b6190",
   "metadata": {},
   "outputs": [
    {
     "name": "stdout",
     "output_type": "stream",
     "text": [
      "this is my except block [Errno 2] No such file or directory: 'test6.txt'\n"
     ]
    }
   ],
   "source": [
    "try :\n",
    "    f = open('test6.txt','r')\n",
    "    f.write(\"write into my file\")\n",
    "except Exception as e :\n",
    "    print(\"this is my except block\",e)\n",
    "else :\n",
    "    f.close()\n",
    "    print(\"this will be execiuted once your  try will executed without error \")\n"
   ]
  },
  {
   "cell_type": "code",
   "execution_count": 50,
   "id": "1664b1ab",
   "metadata": {},
   "outputs": [
    {
     "name": "stdout",
     "output_type": "stream",
     "text": [
      "Finally will execute itself in any situation\n"
     ]
    },
    {
     "ename": "UnsupportedOperation",
     "evalue": "not writable",
     "output_type": "error",
     "traceback": [
      "\u001b[1;31m---------------------------------------------------------------------------\u001b[0m",
      "\u001b[1;31mUnsupportedOperation\u001b[0m                      Traceback (most recent call last)",
      "\u001b[1;32me:\\Python\\06_exceptional_handling.ipynb Cell 8\u001b[0m line \u001b[0;36m5\n\u001b[0;32m      <a href='vscode-notebook-cell:/e%3A/Python/06_exceptional_handling.ipynb#X22sZmlsZQ%3D%3D?line=2'>3</a>\u001b[0m \u001b[39mtry\u001b[39;00m :\n\u001b[0;32m      <a href='vscode-notebook-cell:/e%3A/Python/06_exceptional_handling.ipynb#X22sZmlsZQ%3D%3D?line=3'>4</a>\u001b[0m     f \u001b[39m=\u001b[39m \u001b[39mopen\u001b[39m(\u001b[39m\"\u001b[39m\u001b[39mtest3.txt\u001b[39m\u001b[39m\"\u001b[39m,\u001b[39m'\u001b[39m\u001b[39mr\u001b[39m\u001b[39m'\u001b[39m)\n\u001b[1;32m----> <a href='vscode-notebook-cell:/e%3A/Python/06_exceptional_handling.ipynb#X22sZmlsZQ%3D%3D?line=4'>5</a>\u001b[0m     f\u001b[39m.\u001b[39;49mwrite(\u001b[39m\"\u001b[39;49m\u001b[39mwrite something\u001b[39;49m\u001b[39m\"\u001b[39;49m)\n\u001b[0;32m      <a href='vscode-notebook-cell:/e%3A/Python/06_exceptional_handling.ipynb#X22sZmlsZQ%3D%3D?line=5'>6</a>\u001b[0m \u001b[39mfinally\u001b[39;00m :\n\u001b[0;32m      <a href='vscode-notebook-cell:/e%3A/Python/06_exceptional_handling.ipynb#X22sZmlsZQ%3D%3D?line=6'>7</a>\u001b[0m     \u001b[39mprint\u001b[39m(\u001b[39m\"\u001b[39m\u001b[39mFinally will execute itself in any situation\u001b[39m\u001b[39m\"\u001b[39m)\n",
      "\u001b[1;31mUnsupportedOperation\u001b[0m: not writable"
     ]
    }
   ],
   "source": [
    "# Finally block\n",
    "\n",
    "try :\n",
    "    f = open(\"test3.txt\",'r')\n",
    "    f.write(\"write something\")\n",
    "finally :\n",
    "    print(\"Finally will execute itself in any situation\")"
   ]
  },
  {
   "cell_type": "code",
   "execution_count": 51,
   "id": "5a8b7b4b",
   "metadata": {},
   "outputs": [
    {
     "ename": "SyntaxError",
     "evalue": "invalid syntax (2906116808.py, line 1)",
     "output_type": "error",
     "traceback": [
      "\u001b[1;36m  Cell \u001b[1;32mIn[51], line 1\u001b[1;36m\u001b[0m\n\u001b[1;33m    Best Practice for exceptional handling\u001b[0m\n\u001b[1;37m         ^\u001b[0m\n\u001b[1;31mSyntaxError\u001b[0m\u001b[1;31m:\u001b[0m invalid syntax\n"
     ]
    }
   ],
   "source": [
    "Best Practice for exceptional handling"
   ]
  },
  {
   "cell_type": "code",
   "execution_count": 53,
   "id": "4d97b830",
   "metadata": {},
   "outputs": [
    {
     "name": "stdout",
     "output_type": "stream",
     "text": [
      "division by zero\n"
     ]
    }
   ],
   "source": [
    "# Use always a specific Exception\n",
    "try :\n",
    "    10/0\n",
    "except ZeroDivisionError as e:\n",
    "    print(e)\n",
    "\n"
   ]
  },
  {
   "cell_type": "code",
   "execution_count": 54,
   "id": "2544912d",
   "metadata": {},
   "outputs": [
    {
     "name": "stdout",
     "output_type": "stream",
     "text": [
      "i am trying to handle a Zero division error  division by zero\n"
     ]
    }
   ],
   "source": [
    "# Print always a proper message\n",
    "try :\n",
    "    10/0\n",
    "except ZeroDivisionError as e:\n",
    "    print(\"i am trying to handle a Zero division error \",e)"
   ]
  },
  {
   "cell_type": "code",
   "execution_count": 57,
   "id": "3b2ff507",
   "metadata": {},
   "outputs": [],
   "source": [
    "# Always try to log your error\n",
    "import logging\n",
    "logging.basicConfig(filename=\"error.log\",level=logging.ERROR)\n",
    "try :\n",
    "    10/0\n",
    "except ZeroDivisionError as e:\n",
    "    logging.error(\"i am trying to handle a Zero division error {}\".format(e))"
   ]
  },
  {
   "cell_type": "code",
   "execution_count": 58,
   "id": "237b27fb",
   "metadata": {},
   "outputs": [],
   "source": [
    "# Always avoid to write a multiple exception handling\n",
    "try :\n",
    "    10/0\n",
    "except FileNotFoundError as e:\n",
    "    logging.error(\"I'm trying to handle a FileNotFound errpr{}\".format(e))\n",
    "except AttributeError as e:\n",
    "    logging.error(\"I'm trying to handle a Attribute errpr{}\".format(e))\n",
    "except ZeroDivisionError as e:\n",
    "    logging.error(\"I'm trying to handle a Zerodivision errpr{}\".format(e))\n"
   ]
  },
  {
   "cell_type": "code",
   "execution_count": 59,
   "id": "d80c296a",
   "metadata": {},
   "outputs": [],
   "source": [
    "# Document all the Error\n",
    "# cleanup all the resources\n",
    "try :\n",
    "    with open(\"test.txt\",'w') as f:\n",
    "        f.write('this is my data to files')\n",
    "except FileNotFoundError as e:\n",
    "    logging.error(\" i am handling file not found error {}\".format(e))\n",
    "finally:\n",
    "    f.close()"
   ]
  },
  {
   "cell_type": "code",
   "execution_count": 70,
   "id": "078ce791",
   "metadata": {},
   "outputs": [
    {
     "data": {
      "text/plain": [
       "-987"
      ]
     },
     "execution_count": 70,
     "metadata": {},
     "output_type": "execute_result"
    }
   ],
   "source": [
    "# Custum Exception\n",
    "\n",
    "age = int(input(\"Enter your age\\n\"))\n",
    "age"
   ]
  },
  {
   "cell_type": "code",
   "execution_count": 77,
   "id": "6133ff57",
   "metadata": {},
   "outputs": [],
   "source": [
    "class validateage(Exception):\n",
    "\n",
    "    def __init__(self, msg) :\n",
    "        self.msg = msg\n",
    "        "
   ]
  },
  {
   "cell_type": "code",
   "execution_count": 81,
   "id": "6c514622",
   "metadata": {},
   "outputs": [],
   "source": [
    "def ValidateAge(age):\n",
    "    if age < 0 :\n",
    "        raise validateage(\"Enter age is negative\")\n",
    "    elif age > 200:\n",
    "        raise validateage(\"Age is very very high\")\n",
    "    else :\n",
    "        print(\"Age is valid\")"
   ]
  },
  {
   "cell_type": "code",
   "execution_count": 84,
   "id": "e2549bdd",
   "metadata": {},
   "outputs": [
    {
     "name": "stdout",
     "output_type": "stream",
     "text": [
      "Age is valid\n"
     ]
    }
   ],
   "source": [
    "try :\n",
    "    age = int(input(\"Enter a age\"))\n",
    "    ValidateAge(age)\n",
    "except validateage as e:\n",
    "    print(e)\n",
    "    "
   ]
  },
  {
   "cell_type": "code",
   "execution_count": 85,
   "id": "1df84277",
   "metadata": {},
   "outputs": [
    {
     "name": "stdout",
     "output_type": "stream",
     "text": [
      "division by zero\n"
     ]
    }
   ],
   "source": [
    "# list of use case in Exception handling\n",
    "\n",
    "try :\n",
    "    a = 10/0\n",
    "except ZeroDivisionError as e:\n",
    "    print(e)\n",
    "    "
   ]
  },
  {
   "cell_type": "code",
   "execution_count": 86,
   "id": "33ae2889",
   "metadata": {},
   "outputs": [
    {
     "name": "stdout",
     "output_type": "stream",
     "text": [
      "invalid literal for int() with base 10: 'lakshya'\n"
     ]
    }
   ],
   "source": [
    "try :\n",
    "    int(\"lakshya\")\n",
    "except (ValueError, TypeError) as e:\n",
    "    print(e)\n",
    "    "
   ]
  },
  {
   "cell_type": "code",
   "execution_count": 87,
   "id": "a076a1b5",
   "metadata": {},
   "outputs": [
    {
     "name": "stdout",
     "output_type": "stream",
     "text": [
      "this will catch an error\n"
     ]
    }
   ],
   "source": [
    "try:\n",
    "    int(\"lakahsy\")\n",
    "except :\n",
    "    print(\"this will catch an error\")"
   ]
  },
  {
   "cell_type": "code",
   "execution_count": 89,
   "id": "4b9e2f73",
   "metadata": {},
   "outputs": [
    {
     "name": "stdout",
     "output_type": "stream",
     "text": [
      "No module named 'sudh'\n"
     ]
    },
    {
     "data": {
      "text/plain": [
       "2.5"
      ]
     },
     "execution_count": 89,
     "metadata": {},
     "output_type": "execute_result"
    }
   ],
   "source": [
    "try :\n",
    "    import sudh\n",
    "except ImportError as e:\n",
    "    print(e)\n",
    "10/4"
   ]
  },
  {
   "cell_type": "code",
   "execution_count": 90,
   "id": "5ef2902d",
   "metadata": {},
   "outputs": [
    {
     "name": "stdout",
     "output_type": "stream",
     "text": [
      "'key2'\n"
     ]
    }
   ],
   "source": [
    "try :\n",
    "    d = {\"key\" : \"value\", 1 : [1,2,4,6,5] }\n",
    "    print(d[\"key2\"])\n",
    "except KeyError as e :\n",
    "    print(e)\n",
    "    "
   ]
  },
  {
   "cell_type": "code",
   "execution_count": 91,
   "id": "e5206b05",
   "metadata": {},
   "outputs": [
    {
     "ename": "SyntaxError",
     "evalue": "invalid decimal literal (3797761467.py, line 2)",
     "output_type": "error",
     "traceback": [
      "\u001b[1;36m  Cell \u001b[1;32mIn[91], line 2\u001b[1;36m\u001b[0m\n\u001b[1;33m    1.test()\u001b[0m\n\u001b[1;37m     ^\u001b[0m\n\u001b[1;31mSyntaxError\u001b[0m\u001b[1;31m:\u001b[0m invalid decimal literal\n"
     ]
    }
   ],
   "source": [
    "try :\n",
    "    1.test()\n",
    "except AttributeError as e:\n",
    "    print(e)\n",
    "    "
   ]
  },
  {
   "cell_type": "code",
   "execution_count": 92,
   "id": "15dde348",
   "metadata": {},
   "outputs": [
    {
     "name": "stdout",
     "output_type": "stream",
     "text": [
      "list index out of range\n"
     ]
    }
   ],
   "source": [
    "try :\n",
    "    l = [1,2,4,5]\n",
    "    print(l[6])\n",
    "except IndexError as e:\n",
    "    print(e)\n"
   ]
  },
  {
   "cell_type": "code",
   "execution_count": 93,
   "id": "e9092a49",
   "metadata": {},
   "outputs": [
    {
     "ename": "SyntaxError",
     "evalue": "cannot assign to literal here. Maybe you meant '==' instead of '='? (11329633.py, line 2)",
     "output_type": "error",
     "traceback": [
      "\u001b[1;36m  Cell \u001b[1;32mIn[93], line 2\u001b[1;36m\u001b[0m\n\u001b[1;33m    123 = \"sudh\"\u001b[0m\n\u001b[1;37m    ^\u001b[0m\n\u001b[1;31mSyntaxError\u001b[0m\u001b[1;31m:\u001b[0m cannot assign to literal here. Maybe you meant '==' instead of '='?\n"
     ]
    }
   ],
   "source": [
    "try :\n",
    "    123 = \"sudh\"\n",
    "except TypeError as e :\n",
    "    print(e)\n",
    "    "
   ]
  },
  {
   "cell_type": "code",
   "execution_count": 96,
   "id": "0e53c757",
   "metadata": {},
   "outputs": [
    {
     "name": "stdout",
     "output_type": "stream",
     "text": [
      "[Errno 2] No such file or directory: 'test9.txt'\n"
     ]
    }
   ],
   "source": [
    "try :\n",
    "    with open (\"test9.txt\",'r') as f:\n",
    "        f.read()\n",
    "except FileNotFoundError as e:\n",
    "    print(e)"
   ]
  },
  {
   "cell_type": "code",
   "execution_count": 97,
   "id": "e4d1556a",
   "metadata": {},
   "outputs": [
    {
     "data": {
      "text/plain": [
       "['__cause__',\n",
       " '__class__',\n",
       " '__context__',\n",
       " '__delattr__',\n",
       " '__dict__',\n",
       " '__dir__',\n",
       " '__doc__',\n",
       " '__eq__',\n",
       " '__format__',\n",
       " '__ge__',\n",
       " '__getattribute__',\n",
       " '__getstate__',\n",
       " '__gt__',\n",
       " '__hash__',\n",
       " '__init__',\n",
       " '__init_subclass__',\n",
       " '__le__',\n",
       " '__lt__',\n",
       " '__ne__',\n",
       " '__new__',\n",
       " '__reduce__',\n",
       " '__reduce_ex__',\n",
       " '__repr__',\n",
       " '__setattr__',\n",
       " '__setstate__',\n",
       " '__sizeof__',\n",
       " '__str__',\n",
       " '__subclasshook__',\n",
       " '__suppress_context__',\n",
       " '__traceback__',\n",
       " 'add_note',\n",
       " 'args',\n",
       " 'with_traceback']"
      ]
     },
     "execution_count": 97,
     "metadata": {},
     "output_type": "execute_result"
    }
   ],
   "source": [
    "dir(Exception)"
   ]
  },
  {
   "cell_type": "code",
   "execution_count": 98,
   "id": "3ffc7cec",
   "metadata": {},
   "outputs": [
    {
     "name": "stdout",
     "output_type": "stream",
     "text": [
      "test [Errno 2] No such file or directory: 'test9.txt'\n"
     ]
    }
   ],
   "source": [
    "# Super class is always on below\n",
    "\n",
    "try :\n",
    "    with open (\"test9.txt\",'r') as f:\n",
    "        f.read()\n",
    "except FileNotFoundError as e:\n",
    "    print(\"test\",e)\n",
    "except Exception as e:\n",
    "    print(e)"
   ]
  },
  {
   "cell_type": "code",
   "execution_count": 103,
   "id": "8778e064",
   "metadata": {},
   "outputs": [
    {
     "name": "stdout",
     "output_type": "stream",
     "text": [
      "test [Errno 2] No such file or directory: 'test9.txt'\n"
     ]
    }
   ],
   "source": [
    "def test(file):\n",
    "\n",
    "    try :\n",
    "        with open (\"test9.txt\",'r') as f:\n",
    "            f.read()\n",
    "    except FileNotFoundError as e:\n",
    "        print(\"test\",e)\n",
    "    except Exception as e:\n",
    "        print(e)\n",
    "test(3)"
   ]
  },
  {
   "cell_type": "code",
   "execution_count": null,
   "id": "42e2c2f0",
   "metadata": {},
   "outputs": [],
   "source": []
  }
 ],
 "metadata": {
  "kernelspec": {
   "display_name": "Python 3 (ipykernel)",
   "language": "python",
   "name": "python3"
  },
  "language_info": {
   "codemirror_mode": {
    "name": "ipython",
    "version": 3
   },
   "file_extension": ".py",
   "mimetype": "text/x-python",
   "name": "python",
   "nbconvert_exporter": "python",
   "pygments_lexer": "ipython3",
   "version": "3.11.5"
  }
 },
 "nbformat": 4,
 "nbformat_minor": 5
}
