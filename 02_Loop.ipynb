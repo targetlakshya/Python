{
 "cells": [
  {
   "cell_type": "markdown",
   "metadata": {},
   "source": [
    "With the while loop we can execute a set of statements as long as a condition is true.\n"
   ]
  },
  {
   "cell_type": "code",
   "execution_count": 1,
   "metadata": {},
   "outputs": [
    {
     "name": "stdout",
     "output_type": "stream",
     "text": [
      "0\n",
      "2\n",
      "4\n",
      "6\n",
      "8\n",
      "10\n",
      "12\n",
      "14\n",
      "16\n",
      "18\n",
      "20\n"
     ]
    }
   ],
   "source": [
    "# Table of 2 using for loop\n",
    "\n",
    "for i in range(11):\n",
    "    print(i*2)"
   ]
  },
  {
   "cell_type": "code",
   "execution_count": 2,
   "metadata": {},
   "outputs": [
    {
     "name": "stdout",
     "output_type": "stream",
     "text": [
      "[2, 3, 4, 5, 6, 7, 8, 9, 10]\n"
     ]
    }
   ],
   "source": [
    "# Loop in list\n",
    "\n",
    "l = [1,2,3,4,5,6,7,8,9]\n",
    "l1 = []\n",
    "for i in l:\n",
    "    l1.append(i+1)\n",
    "print(l1)"
   ]
  },
  {
   "cell_type": "code",
   "execution_count": 3,
   "metadata": {},
   "outputs": [
    {
     "name": "stdout",
     "output_type": "stream",
     "text": [
      "['LAKSHYA', 'SAURABH', 'PAWAN', 'VIKRAM']\n"
     ]
    }
   ],
   "source": [
    "# Loop in List\n",
    "\n",
    "l = ['lakshya','saurabh','pawan','vikram']\n",
    "l2 = []\n",
    "for i in l:\n",
    "    l2.append(i.upper())\n",
    "print(l2)"
   ]
  },
  {
   "cell_type": "code",
   "execution_count": 4,
   "metadata": {},
   "outputs": [
    {
     "name": "stdout",
     "output_type": "stream",
     "text": [
      "[1, 2, 3, 4, 342, 43, 5, 321]\n",
      "['lakshya', 'vikram']\n"
     ]
    }
   ],
   "source": [
    "# Loop in list with condition\n",
    "\n",
    "l = [1,2,3,4,\"lakshya\",\"vikram\",342,43,5,321]\n",
    "strList = []\n",
    "numList = []\n",
    "for i in l: \n",
    "    if type(i) is int or type(i) is float:\n",
    "        numList.append(i)\n",
    "    else :\n",
    "        strList.append(i)\n",
    "print(numList)\n",
    "print(strList)"
   ]
  },
  {
   "cell_type": "code",
   "execution_count": 5,
   "metadata": {},
   "outputs": [
    {
     "name": "stdout",
     "output_type": "stream",
     "text": [
      "1 <class 'int'>\n",
      "2 <class 'int'>\n",
      "3 <class 'int'>\n",
      "4 <class 'int'>\n",
      "5 <class 'int'>\n"
     ]
    }
   ],
   "source": [
    "l = [1,2,3,4,5]\n",
    "for i in l:\n",
    "    print(i,type(i))"
   ]
  },
  {
   "cell_type": "code",
   "execution_count": 6,
   "metadata": {},
   "outputs": [
    {
     "name": "stdout",
     "output_type": "stream",
     "text": [
      "Element Not Found\n"
     ]
    }
   ],
   "source": [
    "# For else Loop\n",
    "\n",
    "l = [1,22,33,44,55,66,77,88,99,00]\n",
    "for i in l:\n",
    "    if i == 10:\n",
    "        print(\"Element Found\")\n",
    "        break\n",
    "else:\n",
    "    print(\"Element Not Found\")\n"
   ]
  },
  {
   "cell_type": "code",
   "execution_count": 7,
   "metadata": {},
   "outputs": [
    {
     "name": "stdout",
     "output_type": "stream",
     "text": [
      "Lakshya\n",
      "Vikram\n",
      "Pawan\n",
      "Saurabh\n",
      "Execute this block if the loop is completed without break\n"
     ]
    }
   ],
   "source": [
    "l = [\"Lakshya\", \"Vikram\", \"Pawan\", \"Saurabh\"]\n",
    "\n",
    "for i in l:\n",
    "    if i == \"Virus\":\n",
    "        break\n",
    "    print(i)\n",
    "else:\n",
    "    print(\"Execute this block if the loop is completed without break\")"
   ]
  },
  {
   "cell_type": "code",
   "execution_count": 8,
   "metadata": {},
   "outputs": [
    {
     "name": "stdout",
     "output_type": "stream",
     "text": [
      "[0, 1, 2, 3, 4, 5, 6, 7, 8, 9]\n",
      "[0, 2, 4, 6, 8, 10, 12, 14, 16, 18, 20]\n",
      "[-10, -9, -8, -7, -6, -5, -4, -3, -2, -1]\n",
      "6\n",
      "5\n",
      "3\n",
      "2\n",
      "1\n"
     ]
    }
   ],
   "source": [
    "#  range function\n",
    "\n",
    "print(list(range(10))) # 0 to 9\n",
    "print(list(range(0,21,2)))\n",
    "print(list(range(-10,0,1)))\n",
    "\n",
    "l3 = [1,2,3,5,6] # Reverse the List manually\n",
    "for i in range(len(l3)-1,-1,-1):\n",
    "    print(l3[i])\n"
   ]
  },
  {
   "cell_type": "code",
   "execution_count": 9,
   "metadata": {},
   "outputs": [
    {
     "name": "stdout",
     "output_type": "stream",
     "text": [
      "55\n"
     ]
    }
   ],
   "source": [
    "# Sum of the List\n",
    "l = [1,2,3,4,5,6,7,8,9,10]\n",
    "result = 0\n",
    "for i in l:\n",
    "    result += i\n",
    "print(result)"
   ]
  },
  {
   "cell_type": "code",
   "execution_count": 10,
   "metadata": {},
   "outputs": [
    {
     "name": "stdout",
     "output_type": "stream",
     "text": [
      "55\n"
     ]
    }
   ],
   "source": [
    "# for loop in tuples\n",
    "\n",
    "t = (1,2,3,4,5,6,7,8,9,10)\n",
    "result = 0\n",
    "for i in t:\n",
    "    result += i\n",
    "print(result)\n",
    "   \n"
   ]
  },
  {
   "cell_type": "code",
   "execution_count": 11,
   "metadata": {},
   "outputs": [
    {
     "name": "stdout",
     "output_type": "stream",
     "text": [
      "55\n"
     ]
    }
   ],
   "source": [
    "# For loop in set\n",
    "s = {1,2,3,4,5,6,7,8,9,10}\n",
    "result = 0\n",
    "for i in s:\n",
    "    result += i\n",
    "print(result)\n"
   ]
  },
  {
   "cell_type": "code",
   "execution_count": 12,
   "metadata": {},
   "outputs": [
    {
     "name": "stdout",
     "output_type": "stream",
     "text": [
      "name\n",
      "Class\n",
      "Topic\n",
      "Lakshya\n",
      "Data Science\n",
      "['Python', 'Stats', 'Machine Learning', 'Deep Learning', 'Computer Vision']\n",
      "('name', 'Lakshya')\n",
      "('Class', 'Data Science')\n",
      "('Topic', ['Python', 'Stats', 'Machine Learning', 'Deep Learning', 'Computer Vision'])\n"
     ]
    }
   ],
   "source": [
    "# For loop in Dictionary\n",
    "\n",
    "d = {\"name\" : \"Lakshya\", \"Class\" : \"Data Science\", \"Topic\" : [\"Python\", \"Stats\", \"Machine Learning\", \"Deep Learning\", \"Computer Vision\"]}\n",
    "for i in d.keys():\n",
    "    print(i)\n",
    "for i in d.values():\n",
    "    print(i)\n",
    "for i in d.items():\n",
    "    print(i)\n"
   ]
  },
  {
   "cell_type": "markdown",
   "metadata": {},
   "source": [
    "While Loop\n",
    "\n",
    "With the while loop we can execute a set of statements as long as a condition is true.\n",
    "\n",
    "while(condition) {\n",
    "    //Code\n",
    "}"
   ]
  },
  {
   "cell_type": "code",
   "execution_count": 13,
   "metadata": {},
   "outputs": [
    {
     "name": "stdout",
     "output_type": "stream",
     "text": [
      "1\n",
      "2\n",
      "3\n",
      "4\n",
      "5\n",
      "6\n",
      "7\n",
      "8\n",
      "9\n",
      "10\n"
     ]
    }
   ],
   "source": [
    "a = 1\n",
    "while a < 11:\n",
    "    print(a)\n",
    "    a += 1"
   ]
  },
  {
   "cell_type": "code",
   "execution_count": 14,
   "metadata": {},
   "outputs": [
    {
     "name": "stdout",
     "output_type": "stream",
     "text": [
      "55\n"
     ]
    }
   ],
   "source": [
    "# Sum of the number till some point\n",
    "\n",
    "n = int(input(\"Enter the Number: \"))\n",
    "starting_point = 0\n",
    "count = 1\n",
    "while count <= n:\n",
    "    starting_point += count\n",
    "    count += 1\n",
    "print(starting_point)\n"
   ]
  },
  {
   "cell_type": "code",
   "execution_count": 15,
   "metadata": {},
   "outputs": [
    {
     "name": "stdout",
     "output_type": "stream",
     "text": [
      "6\n"
     ]
    }
   ],
   "source": [
    "# Factorial of the Number\n",
    "n = int(input(\"Enter the Number: \"))\n",
    "fact = 1\n",
    "while n > 0:\n",
    "    fact *= n\n",
    "    n -= 1\n",
    "print(fact)"
   ]
  },
  {
   "cell_type": "code",
   "execution_count": 16,
   "metadata": {},
   "outputs": [
    {
     "name": "stdout",
     "output_type": "stream",
     "text": [
      "0\n",
      "1\n",
      "1\n",
      "2\n",
      "3\n",
      "5\n",
      "8\n",
      "13\n",
      "21\n",
      "34\n",
      "55\n",
      "89\n",
      "144\n",
      "233\n",
      "377\n",
      "610\n",
      "987\n",
      "1597\n",
      "2584\n",
      "4181\n",
      "6765\n",
      "10946\n",
      "17711\n",
      "28657\n",
      "46368\n",
      "75025\n",
      "121393\n",
      "196418\n",
      "317811\n",
      "514229\n",
      "832040\n",
      "1346269\n",
      "2178309\n",
      "3524578\n",
      "5702887\n",
      "9227465\n",
      "14930352\n",
      "24157817\n",
      "39088169\n",
      "63245986\n",
      "102334155\n",
      "165580141\n",
      "267914296\n",
      "433494437\n",
      "701408733\n",
      "1134903170\n",
      "1836311903\n",
      "2971215073\n",
      "4807526976\n",
      "7778742049\n",
      "12586269025\n",
      "20365011074\n",
      "32951280099\n",
      "53316291173\n",
      "86267571272\n"
     ]
    }
   ],
   "source": [
    "#  Fibonacci Series\n",
    "n = int(input(\"Enter the Number: \"))\n",
    "a = 0\n",
    "b = 1\n",
    "count = 0\n",
    "while count < n:\n",
    "    print(a)\n",
    "    c = a + b\n",
    "    a = b\n",
    "    b = c\n",
    "    count += 1"
   ]
  },
  {
   "cell_type": "code",
   "execution_count": 17,
   "metadata": {},
   "outputs": [
    {
     "name": "stdout",
     "output_type": "stream",
     "text": [
      "kjgsvbhjdskla\n"
     ]
    }
   ],
   "source": [
    "# String Reverse\n",
    "\n",
    "word = input(\"Enter the Word: \")\n",
    "reverse = \"\"\n",
    "length = len(word)\n",
    "while length > 0:\n",
    "    reverse += word[length-1]\n",
    "    length -= 1\n",
    "print(reverse)"
   ]
  },
  {
   "cell_type": "code",
   "execution_count": 18,
   "metadata": {},
   "outputs": [
    {
     "name": "stdout",
     "output_type": "stream",
     "text": [
      "55 * 1 = 55\n",
      "55 * 2 = 110\n",
      "55 * 3 = 165\n",
      "55 * 4 = 220\n",
      "55 * 5 = 275\n",
      "55 * 6 = 330\n",
      "55 * 7 = 385\n",
      "55 * 8 = 440\n",
      "55 * 9 = 495\n",
      "55 * 10 = 550\n"
     ]
    }
   ],
   "source": [
    "# Table of a number\n",
    "\n",
    "n = int(input(\"Enter the Number: \"))\n",
    "count = 1\n",
    "while count < 11:\n",
    "    print(f\"{n} * {count} = {n*count}\")\n",
    "    count += 1\n"
   ]
  },
  {
   "cell_type": "code",
   "execution_count": 19,
   "metadata": {},
   "outputs": [
    {
     "name": "stdout",
     "output_type": "stream",
     "text": [
      "1\n",
      "2\n",
      "3\n",
      "4\n",
      "this loop is executed when while is executed\n"
     ]
    }
   ],
   "source": [
    "# While else Loop\n",
    "n = 5\n",
    "i = 1\n",
    "while i < n :\n",
    "    print(i)\n",
    "    i += 1\n",
    "else :\n",
    "    print(\"this loop is executed when while is executed\")"
   ]
  },
  {
   "cell_type": "code",
   "execution_count": 22,
   "metadata": {},
   "outputs": [
    {
     "name": "stdout",
     "output_type": "stream",
     "text": [
      "1\n",
      "2\n",
      "3\n"
     ]
    }
   ],
   "source": [
    "# While else Loop with break    \n",
    "n = 10\n",
    "i = 1\n",
    "while i < n:\n",
    "    print(i)\n",
    "    if i == 3:\n",
    "        break\n",
    "    i = i + 1\n",
    "else :\n",
    "    print(\"THIs will be executed when while executed successfully\")"
   ]
  },
  {
   "cell_type": "code",
   "execution_count": null,
   "metadata": {},
   "outputs": [],
   "source": []
  }
 ],
 "metadata": {
  "kernelspec": {
   "display_name": "Python 3",
   "language": "python",
   "name": "python3"
  },
  "language_info": {
   "codemirror_mode": {
    "name": "ipython",
    "version": 3
   },
   "file_extension": ".py",
   "mimetype": "text/x-python",
   "name": "python",
   "nbconvert_exporter": "python",
   "pygments_lexer": "ipython3",
   "version": "3.11.8"
  }
 },
 "nbformat": 4,
 "nbformat_minor": 2
}
