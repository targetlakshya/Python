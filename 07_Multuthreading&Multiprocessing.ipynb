{
 "cells": [
  {
   "cell_type": "code",
   "execution_count": 4,
   "metadata": {},
   "outputs": [],
   "source": [
    "import threading\n",
    "\n",
    "def test(id):\n",
    "    print(\"prog start %d\"% id) \n",
    "     "
   ]
  },
  {
   "cell_type": "code",
   "execution_count": 5,
   "metadata": {},
   "outputs": [
    {
     "name": "stdout",
     "output_type": "stream",
     "text": [
      "prog start 45\n"
     ]
    }
   ],
   "source": [
    "test(45)"
   ]
  },
  {
   "cell_type": "code",
   "execution_count": 7,
   "metadata": {},
   "outputs": [],
   "source": [
    "thread = [threading.Thread(target=test, args=(i,) )for i in range(10)]"
   ]
  },
  {
   "cell_type": "code",
   "execution_count": 8,
   "metadata": {},
   "outputs": [
    {
     "name": "stdout",
     "output_type": "stream",
     "text": [
      "prog start 0\n",
      "prog start 1\n",
      "prog start 2\n",
      "prog start 3\n",
      "prog start 4\n",
      "prog start 5\n",
      "prog start 6\n",
      "prog start 7\n",
      "prog start 8\n",
      "prog start 9\n"
     ]
    }
   ],
   "source": [
    "for t in thread:\n",
    "    t.start()"
   ]
  },
  {
   "cell_type": "code",
   "execution_count": 9,
   "metadata": {},
   "outputs": [
    {
     "data": {
      "text/plain": [
       "[0, 1, 2, 3, 4, 5, 6, 7, 8, 9]"
      ]
     },
     "execution_count": 9,
     "metadata": {},
     "output_type": "execute_result"
    }
   ],
   "source": [
    "list(range(10))"
   ]
  },
  {
   "cell_type": "code",
   "execution_count": 10,
   "metadata": {},
   "outputs": [
    {
     "data": {
      "text/plain": [
       "[<Thread(Thread-5 (test), stopped 33840)>,\n",
       " <Thread(Thread-6 (test), stopped 13816)>,\n",
       " <Thread(Thread-7 (test), stopped 14408)>,\n",
       " <Thread(Thread-8 (test), stopped 32332)>,\n",
       " <Thread(Thread-9 (test), stopped 4640)>,\n",
       " <Thread(Thread-10 (test), stopped 29280)>,\n",
       " <Thread(Thread-11 (test), stopped 21948)>,\n",
       " <Thread(Thread-12 (test), stopped 26608)>,\n",
       " <Thread(Thread-13 (test), stopped 34868)>,\n",
       " <Thread(Thread-14 (test), stopped 22308)>]"
      ]
     },
     "execution_count": 10,
     "metadata": {},
     "output_type": "execute_result"
    }
   ],
   "source": [
    "thread"
   ]
  },
  {
   "cell_type": "code",
   "execution_count": 11,
   "metadata": {},
   "outputs": [
    {
     "data": {
      "text/plain": [
       "2385413033792"
      ]
     },
     "execution_count": 11,
     "metadata": {},
     "output_type": "execute_result"
    }
   ],
   "source": [
    "id(thread)"
   ]
  },
  {
   "cell_type": "code",
   "execution_count": 12,
   "metadata": {},
   "outputs": [],
   "source": [
    "import threading\n",
    "import urllib.request\n",
    "\n",
    "def file_download(url,filename) :\n",
    "    urllib.request.urlretrieve(url,filename)"
   ]
  },
  {
   "cell_type": "code",
   "execution_count": 13,
   "metadata": {},
   "outputs": [],
   "source": [
    "file_download(\"https://raw.githubusercontent.com/itsfoss/text-files/master/agatha.txt\", \"test4.txt\")"
   ]
  },
  {
   "cell_type": "code",
   "execution_count": 14,
   "metadata": {},
   "outputs": [],
   "source": [
    "url_list = [\"https://raw.githubusercontent.com/itsfoss/text-files/master/agatha.txt\",\"https://raw.githubusercontent.com/itsfoss/text-files/master/sample_log_file.txt\",\"https://raw.githubusercontent.com/itsfoss/text-files/master/sherlock.txt\"]"
   ]
  },
  {
   "cell_type": "code",
   "execution_count": 15,
   "metadata": {},
   "outputs": [
    {
     "data": {
      "text/plain": [
       "['https://raw.githubusercontent.com/itsfoss/text-files/master/agatha.txt',\n",
       " 'https://raw.githubusercontent.com/itsfoss/text-files/master/sample_log_file.txt',\n",
       " 'https://raw.githubusercontent.com/itsfoss/text-files/master/sherlock.txt']"
      ]
     },
     "execution_count": 15,
     "metadata": {},
     "output_type": "execute_result"
    }
   ],
   "source": [
    "url_list"
   ]
  },
  {
   "cell_type": "code",
   "execution_count": 16,
   "metadata": {},
   "outputs": [],
   "source": [
    "file_name_list = ['data1.txt','data2.txt','data3.txt' ]"
   ]
  },
  {
   "cell_type": "code",
   "execution_count": 19,
   "metadata": {},
   "outputs": [],
   "source": [
    "ther = [threading.Thread(target=file_download,args=(url_list[i],file_name_list[i])) for i in range(len(url_list))]"
   ]
  },
  {
   "cell_type": "code",
   "execution_count": 20,
   "metadata": {},
   "outputs": [
    {
     "data": {
      "text/plain": [
       "[<Thread(Thread-15 (file_download), initial)>,\n",
       " <Thread(Thread-16 (file_download), initial)>,\n",
       " <Thread(Thread-17 (file_download), initial)>]"
      ]
     },
     "execution_count": 20,
     "metadata": {},
     "output_type": "execute_result"
    }
   ],
   "source": [
    "ther"
   ]
  },
  {
   "cell_type": "code",
   "execution_count": 21,
   "metadata": {},
   "outputs": [],
   "source": [
    "for t in ther:\n",
    "    t.start()"
   ]
  },
  {
   "cell_type": "code",
   "execution_count": 22,
   "metadata": {},
   "outputs": [
    {
     "data": {
      "text/plain": [
       "[<Thread(Thread-15 (file_download), stopped 16768)>,\n",
       " <Thread(Thread-16 (file_download), stopped 43376)>,\n",
       " <Thread(Thread-17 (file_download), stopped 4500)>]"
      ]
     },
     "execution_count": 22,
     "metadata": {},
     "output_type": "execute_result"
    }
   ],
   "source": [
    "ther"
   ]
  },
  {
   "cell_type": "code",
   "execution_count": 23,
   "metadata": {},
   "outputs": [],
   "source": [
    "import time"
   ]
  },
  {
   "cell_type": "code",
   "execution_count": 30,
   "metadata": {},
   "outputs": [],
   "source": [
    "def test1(id):\n",
    "    for i in range(10):\n",
    "        print(\"test1 %d printing %d %s\"%(id,i,time.ctime()))\n",
    "        time.sleep(1)"
   ]
  },
  {
   "cell_type": "code",
   "execution_count": 32,
   "metadata": {},
   "outputs": [
    {
     "name": "stdout",
     "output_type": "stream",
     "text": [
      "test1 1 printing 0 Mon Sep 25 15:48:07 2023\n",
      "test1 1 printing 1 Mon Sep 25 15:48:08 2023\n",
      "test1 1 printing 2 Mon Sep 25 15:48:09 2023\n",
      "test1 1 printing 3 Mon Sep 25 15:48:10 2023\n",
      "test1 1 printing 4 Mon Sep 25 15:48:11 2023\n",
      "test1 1 printing 5 Mon Sep 25 15:48:12 2023\n",
      "test1 1 printing 6 Mon Sep 25 15:48:13 2023\n",
      "test1 1 printing 7 Mon Sep 25 15:48:14 2023\n",
      "test1 1 printing 8 Mon Sep 25 15:48:15 2023\n",
      "test1 1 printing 9 Mon Sep 25 15:48:16 2023\n"
     ]
    }
   ],
   "source": [
    "test1(1)"
   ]
  },
  {
   "cell_type": "code",
   "execution_count": 33,
   "metadata": {},
   "outputs": [],
   "source": [
    "thread1 = [threading.Thread(target=test1,args = (i,)) for i in range(3)]"
   ]
  },
  {
   "cell_type": "code",
   "execution_count": 34,
   "metadata": {},
   "outputs": [
    {
     "name": "stdout",
     "output_type": "stream",
     "text": [
      "test1 0 printing 0 Mon Sep 25 15:48:23 2023\n",
      "test1 1 printing 0 Mon Sep 25 15:48:23 2023\n",
      "test1 2 printing 0 Mon Sep 25 15:48:23 2023\n"
     ]
    },
    {
     "name": "stdout",
     "output_type": "stream",
     "text": [
      "test1 0 printing 1 Mon Sep 25 15:48:24 2023\n",
      "test1 2 printing 1 Mon Sep 25 15:48:24 2023\n",
      "test1 1 printing 1 Mon Sep 25 15:48:24 2023\n",
      "test1 0 printing 2 Mon Sep 25 15:48:25 2023\n",
      "test1 2 printing 2 Mon Sep 25 15:48:25 2023\n",
      "test1 1 printing 2 Mon Sep 25 15:48:25 2023\n",
      "test1 0 printing 3 Mon Sep 25 15:48:26 2023\n",
      "test1 2 printing 3 Mon Sep 25 15:48:26 2023\n",
      "test1 1 printing 3 Mon Sep 25 15:48:26 2023\n",
      "test1 0 printing 4 Mon Sep 25 15:48:27 2023\n",
      "test1 2 printing 4 Mon Sep 25 15:48:27 2023\n",
      "test1 1 printing 4 Mon Sep 25 15:48:27 2023\n",
      "test1 0 printing 5 Mon Sep 25 15:48:28 2023\n",
      "test1 1 printing 5 Mon Sep 25 15:48:28 2023\n",
      "test1 2 printing 5 Mon Sep 25 15:48:28 2023\n",
      "test1 0 printing 6 Mon Sep 25 15:48:29 2023\n",
      "test1 1 printing 6 Mon Sep 25 15:48:29 2023\n",
      "test1 2 printing 6 Mon Sep 25 15:48:29 2023\n",
      "test1 0 printing 7 Mon Sep 25 15:48:30 2023test1 1 printing 7 Mon Sep 25 15:48:30 2023\n",
      "test1 2 printing 7 Mon Sep 25 15:48:30 2023\n",
      "\n",
      "test1 1 printing 8 Mon Sep 25 15:48:31 2023\n",
      "test1 0 printing 8 Mon Sep 25 15:48:31 2023\n",
      "test1 2 printing 8 Mon Sep 25 15:48:31 2023\n",
      "test1 1 printing 9 Mon Sep 25 15:48:32 2023test1 0 printing 9 Mon Sep 25 15:48:32 2023\n",
      "\n",
      "test1 2 printing 9 Mon Sep 25 15:48:32 2023\n"
     ]
    }
   ],
   "source": [
    "for t in thread1:\n",
    "    t.start()"
   ]
  },
  {
   "cell_type": "code",
   "execution_count": 35,
   "metadata": {},
   "outputs": [],
   "source": [
    "# Resources shared\n",
    "\n",
    "shared_var = 0\n",
    "lock_var = threading.Lock()"
   ]
  },
  {
   "cell_type": "code",
   "execution_count": 36,
   "metadata": {},
   "outputs": [],
   "source": [
    "def test2(id) :\n",
    "    global shared_var\n",
    "    with lock_var:\n",
    "        shared_var = shared_var + 1\n",
    "        print(\"test2 id is %d has increased tthe shared variable by  %d\" %(id,shared_var))\n",
    "        "
   ]
  },
  {
   "cell_type": "code",
   "execution_count": 43,
   "metadata": {},
   "outputs": [
    {
     "name": "stdout",
     "output_type": "stream",
     "text": [
      "test2 id is 0 has increased tthe shared variable by  10\n",
      "test2 id is 1 has increased tthe shared variable by  11\n",
      "test2 id is 2 has increased tthe shared variable by  12\n"
     ]
    }
   ],
   "source": [
    "ther3 = [threading.Thread(target=test2,args=(i,)) for i in range(3)]\n",
    "for t in ther3 :\n",
    "    t.start()"
   ]
  },
  {
   "cell_type": "code",
   "execution_count": 2,
   "metadata": {},
   "outputs": [
    {
     "name": "stdout",
     "output_type": "stream",
     "text": [
      "this is my main program\n"
     ]
    }
   ],
   "source": [
    "# Multiprocessing\n",
    "\n",
    "\n",
    "import multiprocessing\n",
    "\n",
    "def test():\n",
    "    print(\"This is my Multiprocessing\")\n",
    "if __name__ == '__main__' :\n",
    "    m = multiprocessing.Process(target=test)\n",
    "    print('this is my main program')\n",
    "    m.start()\n",
    "    m.join()\n",
    "\n",
    " "
   ]
  },
  {
   "cell_type": "code",
   "execution_count": 3,
   "metadata": {},
   "outputs": [
    {
     "name": "stdout",
     "output_type": "stream",
     "text": [
      "This is my Multiprocessing\n"
     ]
    }
   ],
   "source": [
    "test()"
   ]
  },
  {
   "cell_type": "code",
   "execution_count": 4,
   "metadata": {},
   "outputs": [],
   "source": [
    "\n",
    "def square(n):\n",
    "    return n**2\n",
    "\n",
    "if __name__ == '__main__':\n",
    "    with multiprocessing.Pool(processes=4) as pool :\n",
    "        u = pool.map(square,[1,2,3,4,5,6,7,8,9])\n",
    "        print(u)\n",
    "        "
   ]
  },
  {
   "cell_type": "code",
   "execution_count": 22,
   "metadata": {},
   "outputs": [],
   "source": [
    "import multiprocessing\n",
    "def producer(q):\n",
    "    for i in [\"lakshya\",\"saurabh\"]:\n",
    "        q.put(i)\n",
    "def consume(q):\n",
    "    while True :\n",
    "        item = q.get()\n",
    "        if item is None :\n",
    "            break\n",
    "        print(item)\n",
    "\n",
    "if __name__ == '__main__':\n",
    "    queue = multiprocessing.Queue()\n",
    "    m1 = multiprocessing.Process(target=producer,args=(queue,))\n",
    "    m2 = multiprocessing.Process(target=consume,args=(queue,))\n",
    "    m1.start()\n",
    "    m2.start()\n",
    "    queue.put(\"lakshya\")\n",
    "    m1.join()\n",
    "    m2.join()\n"
   ]
  },
  {
   "cell_type": "code",
   "execution_count": 21,
   "metadata": {},
   "outputs": [
    {
     "name": "stdout",
     "output_type": "stream",
     "text": [
      "[2, 3, 4, 5, 6, 7, 8]\n"
     ]
    }
   ],
   "source": [
    "import multiprocessing\n",
    "def square(index , value):\n",
    "    value[index] = value[index]**2\n",
    "if __name__ == '__main__':\n",
    "    arr =  multiprocessing.Array('i',[2,3,4,5,6,7,8])\n",
    "    process = []\n",
    "    for i in range(7):\n",
    "        m = multiprocessing.Process(target=square, args=(i,arr))\n",
    "        process.append(m)\n",
    "        m.start()\n",
    "    for m in process:\n",
    "        m.join()\n",
    "    print(list(arr))\n"
   ]
  },
  {
   "cell_type": "code",
   "execution_count": null,
   "metadata": {},
   "outputs": [],
   "source": [
    "import multiprocessing\n",
    "def producer(q):\n",
    "    for i in [\"lakshya\",\"saurabh\"]:\n",
    "        q.put(i)\n",
    "def consume(q):\n",
    "    while True :\n",
    "        item = q.get()\n",
    "        if item is None :\n",
    "            break\n",
    "        print(item)\n",
    "\n",
    "if __name__ == '__main__':\n",
    "    queue = multiprocessing.Queue()\n",
    "    m1 = multiprocessing.Process(target=producer,args=(queue,))\n",
    "    m2 = multiprocessing.Process(target=consume,args=(queue,))\n",
    "    m1.start()\n",
    "    m2.start()\n",
    "    queue.put(\"lakshya\")\n",
    "    m1.join()\n",
    "    m2.join()"
   ]
  },
  {
   "cell_type": "code",
   "execution_count": 1,
   "metadata": {},
   "outputs": [],
   "source": [
    "import multiprocessing\n",
    "def sender(conn,msg):\n",
    "    for i in msg:\n",
    "        conn.send(i)\n",
    "    conn.close()\n",
    "\n",
    "def receive(conn) :\n",
    "    while True :\n",
    "        try :\n",
    "            msg = conn.recv()\n",
    "        except Exception as e:\n",
    "            print(e)\n",
    "            break\n",
    "        print(msg)\n",
    "\n",
    "if __name__ == \"__main__\":\n",
    "    msg = [\"my name is lakshya\",\"this is my msg to students\",\"i am taking class of multiprocesiing\"]\n",
    "    parent_conn , child_conn = multiprocessing.Pipe()\n",
    "    m1 = multiprocessing.Process(target=sender, args=(child_conn,msg))\n",
    "    m2 = multiprocessing.Process(target=receive, args = (parent_conn,))\n",
    "    m1.start()\n",
    "    m2.start()\n",
    "    m1.join()\n",
    "    child_conn.close()\n",
    "    m2.join()\n",
    "    parent_conn.close()\n",
    "\n"
   ]
  },
  {
   "cell_type": "code",
   "execution_count": null,
   "metadata": {},
   "outputs": [],
   "source": []
  }
 ],
 "metadata": {
  "kernelspec": {
   "display_name": "Python 3",
   "language": "python",
   "name": "python3"
  },
  "language_info": {
   "codemirror_mode": {
    "name": "ipython",
    "version": 3
   },
   "file_extension": ".py",
   "mimetype": "text/x-python",
   "name": "python",
   "nbconvert_exporter": "python",
   "pygments_lexer": "ipython3",
   "version": "3.11.5"
  },
  "orig_nbformat": 4
 },
 "nbformat": 4,
 "nbformat_minor": 2
}
