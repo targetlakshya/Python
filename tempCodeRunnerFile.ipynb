import mysql.connector

conn = mysql.connector.connect(
    host = "localhost",
    database = "MYSQL",
    user = "root",
    password = "Lakshya@143"
)
cursor = conn.cursor()

cursor.execute("SELECT * FROM sometable" )
for row in cursor :
    print(cursor)


